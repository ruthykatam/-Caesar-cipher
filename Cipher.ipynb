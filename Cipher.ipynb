import string

def cipher(text,shift,alphabets):
  def alph_shift(alphabet):
    return alphabet[shift:] + alphabet[:shift]

  alphabets_shift = tuple(map(alph_shift, alphabets))
  final_alphabet = ''.join(alphabets)
  final_alphabet_shifted = ''.join(alphabets_shift)
  table= str.maketrans(final_alphabet, final_alphabet_shifted)
  return text.translate(table)

plain_text = 'Hello world!'
print(cipher(plain_text, 6, [string.ascii_lowercase, string.ascii_uppercase,string.punctuation]))
