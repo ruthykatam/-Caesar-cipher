{
  "nbformat": 4,
  "nbformat_minor": 0,
  "metadata": {
    "colab": {
      "name": "Cipher.ipynb",
      "provenance": []
    },
    "kernelspec": {
      "name": "python3",
      "display_name": "Python 3"
    },
    "language_info": {
      "name": "python"
    }
  },
  "cells": [
    {
      "cell_type": "code",
      "execution_count": 1,
      "metadata": {
        "colab": {
          "base_uri": "https://localhost:8080/"
        },
        "id": "jhJsMcMlU9Yz",
        "outputId": "f4eaae63-a9fd-40a9-9240-0b48590c986a"
      },
      "outputs": [
        {
          "output_type": "stream",
          "name": "stdout",
          "text": [
            "Nkrru cuxrj'\n"
          ]
        }
      ],
      "source": [
        "import string\n",
        "\n",
        "def cipher(text,shift,alphabets):\n",
        "  def alph_shift(alphabet):\n",
        "    return alphabet[shift:] + alphabet[:shift]\n",
        "\n",
        "  alphabets_shift = tuple(map(alph_shift, alphabets))\n",
        "  final_alphabet = ''.join(alphabets)\n",
        "  final_alphabet_shifted = ''.join(alphabets_shift)\n",
        "  table= str.maketrans(final_alphabet, final_alphabet_shifted)\n",
        "  return text.translate(table)\n",
        "\n",
        "plain_text = 'Hello world!'\n",
        "print(cipher(plain_text, 6, [string.ascii_lowercase, string.ascii_uppercase,string.punctuation]))"
      ]
    }
  ]
}